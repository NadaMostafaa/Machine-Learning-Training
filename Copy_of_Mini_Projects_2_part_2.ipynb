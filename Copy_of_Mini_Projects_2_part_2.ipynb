{
  "nbformat": 4,
  "nbformat_minor": 0,
  "metadata": {
    "colab": {
      "name": "Copy of Mini_Projects_2/ part 2.ipynb",
      "provenance": [],
      "include_colab_link": true
    },
    "kernelspec": {
      "name": "python3",
      "display_name": "Python 3"
    }
  },
  "cells": [
    {
      "cell_type": "markdown",
      "metadata": {
        "id": "view-in-github",
        "colab_type": "text"
      },
      "source": [
        "<a href=\"https://colab.research.google.com/github/NadaMostafaa/Machine-Learning-Training/blob/main/Copy_of_Mini_Projects_2_part_2.ipynb\" target=\"_parent\"><img src=\"https://colab.research.google.com/assets/colab-badge.svg\" alt=\"Open In Colab\"/></a>"
      ]
    },
    {
      "cell_type": "markdown",
      "metadata": {
        "id": "c2sSEq3uSurn"
      },
      "source": [
        "# Files and Exceptions"
      ]
    },
    {
      "cell_type": "markdown",
      "metadata": {
        "id": "qw2XyRs-TWIF"
      },
      "source": [
        "**8. Sum of Numbers** <br>\n",
        "Assume that a file containing a series of integers is named numbers.txt and exists on the computer’s disk. Write a program that reads all of the numbers stored in the file and calculates their total.\n"
      ]
    },
    {
      "cell_type": "code",
      "metadata": {
        "id": "92EStR9KSu8N",
        "colab": {
          "base_uri": "https://localhost:8080/"
        },
        "outputId": "f5409cb1-72d1-4968-d64c-6cfa117b9f6b"
      },
      "source": [
        "def main():\n",
        "    infile = open(\"numbers.txt\",\"r\")\n",
        "    total = 0.0\n",
        "    for line in infile:\n",
        "        amount = float(line)\n",
        "        total+=amount\n",
        "        print(format(amount,\".2f\"))\n",
        "    infile.close()\n",
        "    print(\"the total is\",total)\n",
        "main()    \n",
        "        \n",
        "\n"
      ],
      "execution_count": 11,
      "outputs": [
        {
          "output_type": "stream",
          "text": [
            "434.00\n",
            "327.00\n",
            "41.00\n",
            "42.00\n",
            "319.00\n",
            "485.00\n",
            "the total is 1648.0\n"
          ],
          "name": "stdout"
        }
      ]
    },
    {
      "cell_type": "code",
      "metadata": {
        "id": "B7GImG_lSu-u"
      },
      "source": [
        ""
      ],
      "execution_count": null,
      "outputs": []
    },
    {
      "cell_type": "markdown",
      "metadata": {
        "id": "gW0mWcdDVgK4"
      },
      "source": [
        "**9. Average of Numbers** <br>\n",
        "Assume that a file containing a series of integers is named numbers.txt and exists on the computer’s disk. Write a program that calculates the average of all the numbers stored in\n",
        "the file"
      ]
    },
    {
      "cell_type": "code",
      "metadata": {
        "id": "3-DZx-vnSvCe",
        "colab": {
          "base_uri": "https://localhost:8080/"
        },
        "outputId": "caa053aa-b919-4186-a85b-8e8b486ec096"
      },
      "source": [
        "def main():\n",
        "    infile =open(\"numbers.txt\",\"r\")\n",
        "    total = 0\n",
        "    n=0\n",
        "    for line in infile:\n",
        "      total += int(line)\n",
        "      n += 1\n",
        "    average=total/n\n",
        "    print(\"the average is \",average)\n",
        "    infile.close\n",
        "main()      \n"
      ],
      "execution_count": 10,
      "outputs": [
        {
          "output_type": "stream",
          "text": [
            "the average is  274.6666666666667\n"
          ],
          "name": "stdout"
        }
      ]
    },
    {
      "cell_type": "markdown",
      "metadata": {
        "id": "vjchCYETVwPx"
      },
      "source": [
        "**10. Random Number File Writer**<br>\n",
        "Write a program that writes a series of random numbers to a file. Each random number should be in the range of 1 \n",
        "through 500. The application should let the user specify how\n",
        "many random numbers the file will hold.\n"
      ]
    },
    {
      "cell_type": "code",
      "metadata": {
        "id": "DCyba_BZVxLF",
        "colab": {
          "base_uri": "https://localhost:8080/"
        },
        "outputId": "0434bb69-ce2f-4edd-f055-b135f783783f"
      },
      "source": [
        "def main():\n",
        "    import random\n",
        "    n = int(input(\"Enter how many random numbers do you want to add \"))\n",
        "    counter = 0\n",
        "    outfile = open(\"numbers.txt\", \"w\")\n",
        "    while counter < n:\n",
        "        randomNumber = random.randint(1, 500)\n",
        "        counter = counter+1\n",
        "        outfile.write(str(randomNumber) +\"\\n\")\n",
        "\n",
        "    outfile.close()\n",
        "    print(\"Data written to numbers.txt\")\n",
        "\n",
        "main()"
      ],
      "execution_count": 9,
      "outputs": [
        {
          "output_type": "stream",
          "text": [
            "Enter how many random numbers do you want to add 6\n",
            "Data written to numbers.txt\n"
          ],
          "name": "stdout"
        }
      ]
    },
    {
      "cell_type": "code",
      "metadata": {
        "id": "uZ7CQJM0VxN5"
      },
      "source": [
        ""
      ],
      "execution_count": null,
      "outputs": []
    },
    {
      "cell_type": "markdown",
      "metadata": {
        "id": "p75ZKqbXWMdY"
      },
      "source": [
        "**11.  Exception Handing** <br>\n",
        "Modify the program that you wrote for Exercise 9 so it handles the following exceptions: <br>\n",
        "* It should handle any IOError exceptions that are raised when the file is opened and data\n",
        "is read from it. <br>\n",
        "* It should handle any ValueError exceptions that are raised when the items that are read from the file are converted to a number."
      ]
    },
    {
      "cell_type": "code",
      "metadata": {
        "id": "22SOHQbrVxRE",
        "colab": {
          "base_uri": "https://localhost:8080/"
        },
        "outputId": "8adc7af5-65cb-4a2d-8f2d-ded91b73f6eb"
      },
      "source": [
        "def main():\n",
        "  try:\n",
        "      infile = open(\"numbers.txt\", \"r\")\n",
        "      total = 0\n",
        "      NumberOfLines = 0\n",
        "      line = infile.readline()\n",
        "\n",
        "      while line !=\"\":\n",
        "        NumberOfLines +=1\n",
        "        total += float (line)\n",
        "        line = infile.readline()\n",
        "\n",
        "      AVG = total / NumberOfLines\n",
        "\n",
        "      print(\"The average of the numbers in the file is \", AVG)\n",
        "\n",
        "\n",
        "  except ValueError:\n",
        "     print( \"File must have only numbers. Try again.\" )\n",
        "\n",
        "  except IOError:\n",
        "     print(\"Trouble opening file. Try again.\")\n",
        "    \n",
        "main()\n",
        "\n",
        "\n"
      ],
      "execution_count": 12,
      "outputs": [
        {
          "output_type": "stream",
          "text": [
            "The average of the numbers in the file is  274.6666666666667\n"
          ],
          "name": "stdout"
        }
      ]
    },
    {
      "cell_type": "code",
      "metadata": {
        "id": "3p0MENR_WrBV"
      },
      "source": [
        ""
      ],
      "execution_count": null,
      "outputs": []
    }
  ]
}